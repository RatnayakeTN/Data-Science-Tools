{
 "cells": [
  {
   "cell_type": "raw",
   "id": "0872bea2-e83f-4af7-b6b9-8a5d9cd4f52f",
   "metadata": {},
   "source": [
    "Exercise 2: Create markdown cell with title of the notebook"
   ]
  },
  {
   "cell_type": "markdown",
   "id": "58792596-c479-492a-becf-89c84815c281",
   "metadata": {},
   "source": [
    "# Data Science Tools and Ecosystem"
   ]
  },
  {
   "cell_type": "markdown",
   "id": "027bedf7-7c3d-420e-8f9a-f1568c690fd8",
   "metadata": {
    "tags": []
   },
   "source": [
    "Exercise 3: Create a markdown cell for an introduction"
   ]
  },
  {
   "cell_type": "markdown",
   "id": "4528eaa5-bdae-4bbc-9d88-601143505ad5",
   "metadata": {},
   "source": [
    "In this notebook, Data Science Tools and Ecosystem are summarized."
   ]
  },
  {
   "cell_type": "raw",
   "id": "569556c2-d448-427d-9cf9-f96bbe030206",
   "metadata": {
    "tags": []
   },
   "source": [
    "Exercise 10: Insert a markdown cell to list Objectives"
   ]
  },
  {
   "cell_type": "markdown",
   "id": "2b705791-33ba-4cb4-9ae6-3e9d7f340627",
   "metadata": {},
   "source": [
    "**Objectives:**"
   ]
  },
  {
   "cell_type": "markdown",
   "id": "948759d3-721a-4304-a110-315b62e72784",
   "metadata": {},
   "source": [
    "- List popular languages for Data Science\n",
    "- List commonly used libraries by Data Scientists\n",
    "- List some open source development environment tools for Data Science\n",
    "- Evaluation of arithmetic expressions in Python"
   ]
  },
  {
   "cell_type": "raw",
   "id": "26d7f7d2-0e0d-4232-8baa-d37a078abbd5",
   "metadata": {},
   "source": [
    "Exercise 4: Create a markdown cell to list data science languages"
   ]
  },
  {
   "cell_type": "markdown",
   "id": "19e057e8-bc59-464f-8f1c-92192293df73",
   "metadata": {},
   "source": [
    "Some of the popular languages that Data Scientists use are:"
   ]
  },
  {
   "cell_type": "markdown",
   "id": "94e77f7b-29a9-4744-82a3-280ced3086f1",
   "metadata": {},
   "source": [
    "1. Python\n",
    "2. R\n",
    "3. Julia"
   ]
  },
  {
   "cell_type": "raw",
   "id": "5ed80877-e83f-446b-a51b-9c27cef0954a",
   "metadata": {},
   "source": [
    "Exercise 5: Create a markdown cell to list data science libraries"
   ]
  },
  {
   "cell_type": "markdown",
   "id": "46cbd8c1-bb16-47cc-8761-aa3b782ffdaf",
   "metadata": {},
   "source": [
    "Some of the commonly used libraries used by Data Scientists include:"
   ]
  },
  {
   "cell_type": "markdown",
   "id": "1122d487-c6a2-4b6a-9b4d-7e0fe343e5c7",
   "metadata": {
    "tags": []
   },
   "source": [
    "1. Matplotlib\n",
    "2. Scikit-learn\n",
    "3. Pandas\n",
    "4. Numpy"
   ]
  },
  {
   "cell_type": "raw",
   "id": "8dd45071-f937-4ef9-b71c-0651ec97697a",
   "metadata": {},
   "source": [
    "Exercise 6: Create a markdown cell with a table of Data Science tools"
   ]
  },
  {
   "cell_type": "markdown",
   "id": "b0f15dd5-8ae4-48e3-8948-73e0bb83841d",
   "metadata": {},
   "source": [
    "| Data Science Tools |\n",
    "| ------------------ |\n",
    "| Jupyter | \n",
    "| RStudio |\n",
    "| Apache Zeppelin |"
   ]
  },
  {
   "cell_type": "raw",
   "id": "986bf443-63fd-4573-bca0-fd447fbc34ae",
   "metadata": {},
   "source": [
    "Exercise 7: Create a markdown cell introducing arithmetic expression examples"
   ]
  },
  {
   "cell_type": "markdown",
   "id": "3b464154-9934-4623-adaf-0863e1042ddb",
   "metadata": {},
   "source": [
    "### Below are a few examples of evaluating arithmetic expressions in Python"
   ]
  },
  {
   "cell_type": "raw",
   "id": "83070462-88fa-4f6d-81f1-f7d063e3d1f7",
   "metadata": {},
   "source": [
    "Exercise 8: Create a code cell to multiply and add numbers"
   ]
  },
  {
   "cell_type": "code",
   "execution_count": 32,
   "id": "ef2204e1-0896-4e42-97d1-3ec19f6108b3",
   "metadata": {
    "tags": []
   },
   "outputs": [
    {
     "data": {
      "text/plain": [
       "17"
      ]
     },
     "execution_count": 32,
     "metadata": {},
     "output_type": "execute_result"
    }
   ],
   "source": [
    "# This is a simple arithmetic expression to mutiply and then add integers\n",
    "(3*4)+5"
   ]
  },
  {
   "cell_type": "raw",
   "id": "88dfbf0e-8a7c-4d06-819b-a0bc75522b53",
   "metadata": {},
   "source": [
    "Exercise 9: Create a code cell to convert minutes to hours"
   ]
  },
  {
   "cell_type": "code",
   "execution_count": 46,
   "id": "5a1ffd3d-7dbb-4db2-8939-2ddf0d6c31df",
   "metadata": {
    "tags": []
   },
   "outputs": [
    {
     "name": "stdout",
     "output_type": "stream",
     "text": [
      "3.3333333333333335 hours\n"
     ]
    }
   ],
   "source": [
    "# This will convert 200 minutes to hours by diving by 60\n",
    "hrs = 200/60\n",
    "print(hrs,\"hours\")"
   ]
  },
  {
   "cell_type": "raw",
   "id": "3e54cd0a-7c55-4f1d-a54c-6a10c0759a60",
   "metadata": {},
   "source": [
    "Exercise 11: Create a markdown cell to indicate the Author's name"
   ]
  },
  {
   "cell_type": "markdown",
   "id": "acfa3d5c-3e22-40dc-b9bb-583b85c9b1b5",
   "metadata": {},
   "source": [
    "## Author"
   ]
  },
  {
   "cell_type": "markdown",
   "id": "c3ee1ee9-6b67-4462-8540-e2d64151ae4f",
   "metadata": {
    "tags": []
   },
   "source": [
    "Tharinda Nishavi Ratnayake"
   ]
  },
  {
   "cell_type": "code",
   "execution_count": null,
   "id": "19c8f818-2379-4979-90ae-754c57afe88f",
   "metadata": {},
   "outputs": [],
   "source": []
  }
 ],
 "metadata": {
  "kernelspec": {
   "display_name": "Python 3 (ipykernel)",
   "language": "python",
   "name": "python3"
  },
  "language_info": {
   "codemirror_mode": {
    "name": "ipython",
    "version": 3
   },
   "file_extension": ".py",
   "mimetype": "text/x-python",
   "name": "python",
   "nbconvert_exporter": "python",
   "pygments_lexer": "ipython3",
   "version": "3.11.7"
  }
 },
 "nbformat": 4,
 "nbformat_minor": 5
}
